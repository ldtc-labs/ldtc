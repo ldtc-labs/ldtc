{
 "cells": [
  {
   "metadata": {},
   "cell_type": "markdown",
   "source": [
    "# Verify NC1\n",
    "This notebook loads the audit and indicator artifacts produced by the baseline run and renders the verification timeline."
   ],
   "id": "56b9854758f44717"
  },
  {
   "metadata": {},
   "cell_type": "code",
   "outputs": [],
   "execution_count": null,
   "source": [
    "from pathlib import Path\n",
    "import ldtc\n",
    "from ldtc.reporting.artifacts import bundle\n",
    "\n",
    "# Resolve project root from installed package path (editable install)\n",
    "project_root = Path(ldtc.__file__).resolve().parents[2]\n",
    "audit_path = project_root / \"artifacts\" / \"audits\" / \"audit.jsonl\"\n",
    "fig_dir = project_root / \"artifacts\" / \"figures\"\n",
    "\n",
    "out = bundle(str(fig_dir), str(audit_path), [])\n",
    "out"
   ],
   "id": "2a74c7f38d213fe"
  }
 ],
 "metadata": {
  "kernelspec": {
   "display_name": "Python 3",
   "language": "python",
   "name": "python3"
  },
  "language_info": {
   "name": "python",
   "version": "3.x"
  }
 },
 "nbformat": 4,
 "nbformat_minor": 5
}
