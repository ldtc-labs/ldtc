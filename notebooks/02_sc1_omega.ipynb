{
  "cells": [
    {
      "cell_type": "markdown",
      "metadata": {},
      "source": [
        "# SC1 over Ω (Power-Sag)\n",
        "Run the Ω command, then summarize δ, τ_rec, and pass/fail into a CSV."
      ]
    },
    {
      "cell_type": "markdown",
      "id": "d655ada3",
      "metadata": {},
      "source": [
        "# SC1 over Ω (Power-Sag)\n",
        "Run the Ω command, then summarize δ, τ_rec, and pass/fail into a CSV."
      ]
    },
    {
      "cell_type": "code",
      "execution_count": 1,
      "metadata": {},
      "outputs": [
        {
          "data": {
            "text/plain": [
              "[{'eta': 'power_sag',\n",
              "  'delta': 0.1,\n",
              "  'tau_rec': 5.0,\n",
              "  'M_post': 4.2,\n",
              "  'pass': True}]"
            ]
          },
          "execution_count": 1,
          "metadata": {},
          "output_type": "execute_result"
        }
      ],
      "source": [
        "from pathlib import Path\n",
        "import os\n",
        "import ldtc\n",
        "from ldtc.reporting.tables import write_sc1_table\n",
        "from ldtc.reporting.timeline import render_paper_timeline\n",
        "\n",
        "# Resolve project root from installed package path (editable install)\n",
        "project_root = Path(ldtc.__file__).resolve().parents[2]\n",
        "fig_dir = project_root / \"artifacts\" / \"figures\"\n",
        "aud_path = project_root / \"artifacts\" / \"audits\" / \"audit.jsonl\"\n",
        "os.makedirs(fig_dir, exist_ok=True)\n",
        "\n",
        "# Generate paper-ready timeline (PNG/SVG)\n",
        "render_paper_timeline(str(aud_path), str(fig_dir / \"timeline\"), sidecar_csv=None, show=False)\n",
        "\n",
        "# Example SC1 table row (replace with parsed results if desired)\n",
        "rows = [{\"eta\":\"power_sag\",\"delta\":0.1,\"tau_rec\":5.0,\"M_post\":4.2,\"pass\":True}]\n",
        "write_sc1_table(rows, str(fig_dir / \"sc1_table.csv\"))\n",
        "rows"
      ]
    }
  ],
  "metadata": {
    "kernelspec": {
      "display_name": ".venv",
      "language": "python",
      "name": "python3"
    },
    "language_info": {
      "codemirror_mode": {
        "name": "ipython",
        "version": 3
      },
      "file_extension": ".py",
      "mimetype": "text/x-python",
      "name": "python",
      "nbconvert_exporter": "python",
      "pygments_lexer": "ipython3",
      "version": "3.9.6"
    }
  },
  "nbformat": 4,
  "nbformat_minor": 5
}
